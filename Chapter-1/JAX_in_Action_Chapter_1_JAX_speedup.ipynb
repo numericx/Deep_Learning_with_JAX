{
  "cells": [
    {
      "cell_type": "code",
      "execution_count": 1,
      "metadata": {
        "colab": {
          "base_uri": "https://localhost:8080/"
        },
        "id": "VnA4LuxbTyKb",
        "outputId": "d71b5b4d-f9b8-4205-b08a-6864cc9931a2"
      },
      "outputs": [],
      "source": [
        "# !nvcc --version"
      ]
    },
    {
      "cell_type": "code",
      "execution_count": 2,
      "metadata": {
        "id": "DtPcc6kJUE50"
      },
      "outputs": [],
      "source": [
        "#!pip install --upgrade \"jax[cuda]\" -f https://storage.googleapis.com/jax-releases/jax_releases.html"
      ]
    },
    {
      "cell_type": "code",
      "execution_count": 3,
      "metadata": {
        "colab": {
          "base_uri": "https://localhost:8080/"
        },
        "id": "sI5-pu0SUN_n",
        "outputId": "df12f76f-7123-45ad-bbc7-5dc2b2199a5e"
      },
      "outputs": [
        {
          "name": "stdout",
          "output_type": "stream",
          "text": [
            "Thu Aug 21 22:59:45 2025       \n",
            "+-----------------------------------------------------------------------------------------+\n",
            "| NVIDIA-SMI 575.64.03              Driver Version: 575.64.03      CUDA Version: 12.9     |\n",
            "|-----------------------------------------+------------------------+----------------------+\n",
            "| GPU  Name                 Persistence-M | Bus-Id          Disp.A | Volatile Uncorr. ECC |\n",
            "| Fan  Temp   Perf          Pwr:Usage/Cap |           Memory-Usage | GPU-Util  Compute M. |\n",
            "|                                         |                        |               MIG M. |\n",
            "|=========================================+========================+======================|\n",
            "|   0  NVIDIA GeForce GTX 1080 Ti     Off |   00000000:05:00.0  On |                  N/A |\n",
            "| 39%   63C    P8             22W /  250W |     368MiB /  11264MiB |     30%      Default |\n",
            "|                                         |                        |                  N/A |\n",
            "+-----------------------------------------+------------------------+----------------------+\n",
            "|   1  NVIDIA GeForce GTX 1080 Ti     Off |   00000000:06:00.0 Off |                  N/A |\n",
            "| 32%   55C    P8             12W /  250W |      10MiB /  11264MiB |      0%      Default |\n",
            "|                                         |                        |                  N/A |\n",
            "+-----------------------------------------+------------------------+----------------------+\n",
            "|   2  NVIDIA GeForce GTX 1080 Ti     Off |   00000000:09:00.0 Off |                  N/A |\n",
            "| 28%   49C    P8             11W /  250W |      10MiB /  11264MiB |      0%      Default |\n",
            "|                                         |                        |                  N/A |\n",
            "+-----------------------------------------+------------------------+----------------------+\n",
            "|   3  NVIDIA GeForce GTX 1080 Ti     Off |   00000000:0A:00.0 Off |                  N/A |\n",
            "| 26%   46C    P8             11W /  250W |      10MiB /  11264MiB |      0%      Default |\n",
            "|                                         |                        |                  N/A |\n",
            "+-----------------------------------------+------------------------+----------------------+\n",
            "                                                                                         \n",
            "+-----------------------------------------------------------------------------------------+\n",
            "| Processes:                                                                              |\n",
            "|  GPU   GI   CI              PID   Type   Process name                        GPU Memory |\n",
            "|        ID   ID                                                               Usage      |\n",
            "|=========================================================================================|\n",
            "|    0   N/A  N/A            2545      G   /usr/lib/xorg/Xorg                      145MiB |\n",
            "|    0   N/A  N/A            2725      G   /usr/bin/gnome-shell                     41MiB |\n",
            "|    0   N/A  N/A          511475      G   ...ersion=20250817-180047.308000         49MiB |\n",
            "|    0   N/A  N/A          612078      G   /usr/share/code/code                    115MiB |\n",
            "|    1   N/A  N/A            2545      G   /usr/lib/xorg/Xorg                        4MiB |\n",
            "|    2   N/A  N/A            2545      G   /usr/lib/xorg/Xorg                        4MiB |\n",
            "|    3   N/A  N/A            2545      G   /usr/lib/xorg/Xorg                        4MiB |\n",
            "+-----------------------------------------------------------------------------------------+\n"
          ]
        }
      ],
      "source": [
        "gpu_info = !nvidia-smi\n",
        "gpu_info = '\\n'.join(gpu_info)\n",
        "if gpu_info.find('failed') >= 0:\n",
        "  print('Select the Runtime > \"Change runtime type\" menu to enable a GPU accelerator, ')\n",
        "  print('and then re-execute this cell.')\n",
        "else:\n",
        "  print(gpu_info)"
      ]
    },
    {
      "cell_type": "code",
      "execution_count": 4,
      "metadata": {
        "colab": {
          "base_uri": "https://localhost:8080/"
        },
        "id": "uRNTcpf8Ui_W",
        "outputId": "7cc7a135-8c45-4448-89a0-bd6fa800e467"
      },
      "outputs": [
        {
          "name": "stdout",
          "output_type": "stream",
          "text": [
            "gpu\n"
          ]
        }
      ],
      "source": [
        "# from jax.lib import xla_bridge\n",
        "# print(xla_bridge.get_backend().platform)\n",
        "from jax.extend import backend\n",
        "print(backend.get_backend().platform)\n"
      ]
    },
    {
      "cell_type": "code",
      "execution_count": 5,
      "metadata": {
        "id": "Ix8xq__wV7cX"
      },
      "outputs": [],
      "source": [
        "import jax"
      ]
    },
    {
      "cell_type": "code",
      "execution_count": 6,
      "metadata": {
        "colab": {
          "base_uri": "https://localhost:8080/"
        },
        "id": "JOg7ciNvUnYP",
        "outputId": "55240124-c1b4-47dc-dd11-8ba3e32cbf79"
      },
      "outputs": [
        {
          "data": {
            "text/plain": [
              "[CudaDevice(id=0), CudaDevice(id=1), CudaDevice(id=2), CudaDevice(id=3)]"
            ]
          },
          "execution_count": 6,
          "metadata": {},
          "output_type": "execute_result"
        }
      ],
      "source": [
        "jax.devices()"
      ]
    },
    {
      "cell_type": "code",
      "execution_count": 7,
      "metadata": {
        "colab": {
          "base_uri": "https://localhost:8080/"
        },
        "id": "u0Jwogb9Z6LD",
        "outputId": "3d916f3f-d25d-4071-b312-98d939791831"
      },
      "outputs": [
        {
          "data": {
            "text/plain": [
              "[CpuDevice(id=0)]"
            ]
          },
          "execution_count": 7,
          "metadata": {},
          "output_type": "execute_result"
        }
      ],
      "source": [
        "jax.devices(\"cpu\")"
      ]
    },
    {
      "cell_type": "code",
      "execution_count": 8,
      "metadata": {
        "colab": {
          "base_uri": "https://localhost:8080/"
        },
        "id": "8QVl4uEhZ9EC",
        "outputId": "b11d94b0-18f8-4681-93eb-624dd735db5f"
      },
      "outputs": [
        {
          "data": {
            "text/plain": [
              "[CudaDevice(id=0), CudaDevice(id=1), CudaDevice(id=2), CudaDevice(id=3)]"
            ]
          },
          "execution_count": 8,
          "metadata": {},
          "output_type": "execute_result"
        }
      ],
      "source": [
        "jax.devices(\"gpu\")"
      ]
    },
    {
      "cell_type": "code",
      "execution_count": 9,
      "metadata": {
        "id": "mpaNmoJaUquI"
      },
      "outputs": [],
      "source": [
        "import numpy as np\n",
        "import jax.numpy as jnp"
      ]
    },
    {
      "cell_type": "code",
      "execution_count": null,
      "metadata": {
        "id": "HGIhumiobfA1"
      },
      "outputs": [],
      "source": [
        "# A function with some amount of calculations\n",
        "def f(x):\n",
        "  y1 = x + x*x + 3\n",
        "  y2 = x*x + x*x.T\n",
        "  return y1*y2\n",
        "\n",
        "# Generate some random data\n",
        "x = np.random.randn(3000, 3000).astype('float32')\n",
        "jax_x_gpu = jax.device_put(jnp.array(x), jax.devices('gpu')[0])\n",
        "jax_x_cpu = jax.device_put(jnp.array(x), jax.devices('cpu')[0])\n",
        "\n",
        "# Compile function to CPU and GPU backends with JAX\n",
        "jax_f_cpu = jax.jit(f, backend='cpu')\n",
        "jax_f_gpu = jax.jit(f, backend='gpu')\n",
        "\n",
        "# Warm-up\n",
        "jax_f_cpu(jax_x_cpu)\n",
        "jax_f_gpu(jax_x_gpu);"
      ]
    },
    {
      "cell_type": "code",
      "execution_count": 11,
      "metadata": {
        "colab": {
          "base_uri": "https://localhost:8080/"
        },
        "id": "EeAFVSNNeL8b",
        "outputId": "a46419af-9f1a-4864-fcc0-e720ab2225bd"
      },
      "outputs": [
        {
          "name": "stdout",
          "output_type": "stream",
          "text": [
            "89.6 ms ± 602 μs per loop (mean ± std. dev. of 7 runs, 100 loops each)\n"
          ]
        }
      ],
      "source": [
        "%timeit -n100 f(x)"
      ]
    },
    {
      "cell_type": "code",
      "execution_count": 12,
      "metadata": {
        "colab": {
          "base_uri": "https://localhost:8080/"
        },
        "id": "GUULya4NfWiy",
        "outputId": "32d51f98-119d-4436-f7a2-faed0bcf6c81"
      },
      "outputs": [
        {
          "name": "stdout",
          "output_type": "stream",
          "text": [
            "85.9 ms ± 2.99 ms per loop (mean ± std. dev. of 7 runs, 100 loops each)\n"
          ]
        }
      ],
      "source": [
        "%timeit -n100 f(jax_x_cpu).block_until_ready()"
      ]
    },
    {
      "cell_type": "code",
      "execution_count": 13,
      "metadata": {
        "colab": {
          "base_uri": "https://localhost:8080/"
        },
        "id": "vzlZHhyxfDQC",
        "outputId": "b1aa4973-85e9-4a22-9737-89fd692e4fc3"
      },
      "outputs": [
        {
          "name": "stdout",
          "output_type": "stream",
          "text": [
            "17.6 ms ± 525 μs per loop (mean ± std. dev. of 7 runs, 100 loops each)\n"
          ]
        }
      ],
      "source": [
        "%timeit -n100 jax_f_cpu(jax_x_cpu).block_until_ready()"
      ]
    },
    {
      "cell_type": "code",
      "execution_count": 14,
      "metadata": {
        "colab": {
          "base_uri": "https://localhost:8080/"
        },
        "id": "Q3MqYbe6F1fB",
        "outputId": "d3f226a3-dab0-44f3-c2a8-9f3efb7abfc5"
      },
      "outputs": [
        {
          "name": "stdout",
          "output_type": "stream",
          "text": [
            "2.51 ms ± 655 μs per loop (mean ± std. dev. of 7 runs, 100 loops each)\n"
          ]
        }
      ],
      "source": [
        "%timeit -n100 f(jax_x_gpu).block_until_ready()"
      ]
    },
    {
      "cell_type": "code",
      "execution_count": 15,
      "metadata": {
        "colab": {
          "base_uri": "https://localhost:8080/"
        },
        "id": "0lZseCFDfQG_",
        "outputId": "35414270-957a-4e05-8007-fd9c2da9908b"
      },
      "outputs": [
        {
          "name": "stdout",
          "output_type": "stream",
          "text": [
            "608 μs ± 12.2 μs per loop (mean ± std. dev. of 7 runs, 100 loops each)\n"
          ]
        }
      ],
      "source": [
        "%timeit -n100 jax_f_gpu(jax_x_gpu).block_until_ready()"
      ]
    },
    {
      "cell_type": "code",
      "execution_count": 16,
      "metadata": {
        "colab": {
          "base_uri": "https://localhost:8080/"
        },
        "id": "uQwtrX21EeyZ",
        "outputId": "c06004c4-042f-477e-e9f5-176318fddfcf"
      },
      "outputs": [
        {
          "data": {
            "text/plain": [
              "CpuDevice(id=0)"
            ]
          },
          "execution_count": 16,
          "metadata": {},
          "output_type": "execute_result"
        }
      ],
      "source": [
        "jax_x_cpu.device"
      ]
    },
    {
      "cell_type": "code",
      "execution_count": 17,
      "metadata": {
        "colab": {
          "base_uri": "https://localhost:8080/"
        },
        "id": "7ni0L_Z8GT0A",
        "outputId": "7e2e4f0a-7813-4b4d-9ca9-b8c73ed1fead"
      },
      "outputs": [
        {
          "data": {
            "text/plain": [
              "CudaDevice(id=0)"
            ]
          },
          "execution_count": 17,
          "metadata": {},
          "output_type": "execute_result"
        }
      ],
      "source": [
        "jax_x_gpu.device"
      ]
    }
  ],
  "metadata": {
    "accelerator": "GPU",
    "colab": {
      "collapsed_sections": [],
      "name": "JAX_in_Action_Chapter_1_JAX_speedup.ipynb",
      "provenance": []
    },
    "kernelspec": {
      "display_name": "jax-py312",
      "language": "python",
      "name": "python3"
    },
    "language_info": {
      "codemirror_mode": {
        "name": "ipython",
        "version": 3
      },
      "file_extension": ".py",
      "mimetype": "text/x-python",
      "name": "python",
      "nbconvert_exporter": "python",
      "pygments_lexer": "ipython3",
      "version": "3.12.11"
    }
  },
  "nbformat": 4,
  "nbformat_minor": 0
}
